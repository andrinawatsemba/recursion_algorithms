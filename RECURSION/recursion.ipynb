{
 "cells": [
  {
   "cell_type": "markdown",
   "metadata": {},
   "source": [
    "WATSEMBA ANDRINA\n",
    "\n",
    "S24B38/026"
   ]
  },
  {
   "cell_type": "markdown",
   "metadata": {},
   "source": [
    "#### RECURSION NOTES AND IMPLEMENTATION"
   ]
  },
  {
   "cell_type": "markdown",
   "metadata": {},
   "source": [
    "### What is Recursion?\n",
    "Recursion involves a function calling itself directly or indirectly to solve a problem by breaking it down into simpler and more manageable parts. "
   ]
  },
  {
   "cell_type": "markdown",
   "metadata": {},
   "source": [
    "### How does recursion differ from iteration?\n",
    "- **Recursion**: A function calls itself until it reaches a base case.\n",
    "- **Iteration**: Uses loops (`for`, `while`) to repeat operations.\n",
    "- **Recursion** can be more intuitive for problems like tree traversals, while **iteration** is more memory-efficient.\n"
   ]
  },
  {
   "cell_type": "markdown",
   "metadata": {},
   "source": [
    "## Key Components of Recursion\n",
    " Base Case:\n",
    " \n",
    " This is the condition under which the recursion stops. It is useful to prevent infinite loops and to ensure that each recursive call reduces the problem in some way. In the factorial example, the base case is n == 1.\n",
    "\n",
    " Recursive Case:\n",
    "\n",
    " This is the part of the function that includes the call to itself. It must at the end of it all lead to the base case. In the factorial example, the recursive case is return n * factorial(n-1).\n"
   ]
  },
  {
   "cell_type": "markdown",
   "metadata": {},
   "source": [
    " In Python, recursion is widely used for tasks that can be divided into identical subtasks.\n",
    "\n",
    " In Python, a recursive function is defined like any other function, but it includes a call to itself.\n",
    " \n",
    " The syntax and structure of a recursive function follow the typical function definition in Python,\n",
    "  with the addition of one or more conditions that lead to the function calling itself."
   ]
  },
  {
   "cell_type": "markdown",
   "metadata": {},
   "source": [
    "## Basic Structure of Recursive Function\n",
    "def recursive_function(parameters):\n",
    "\n",
    "\n",
    "    if base_case_condition:\n",
    "\n",
    "\n",
    "        return base_result\n",
    "\n",
    "\n",
    "    else:\n",
    "\n",
    "\n",
    "        return recursive_function(modified_parameters)\n",
    "\n"
   ]
  },
  {
   "cell_type": "markdown",
   "metadata": {},
   "source": [
    "### Memory Utilization in Recursion\n",
    "Recursion utilizes the **call stack**, where each function call is stored until the base case is reached. This can lead to **stack overflow** if recursion depth is too high.\n",
    "\n",
    "### Why is a Base Condition Necessary in Recursion?\n",
    "Without a base condition, the function will call itself infinitely, leading to a stack overflow error."
   ]
  },
  {
   "cell_type": "markdown",
   "metadata": {},
   "source": [
    "# Advantages of using recursion\n",
    " Simplicity: Recursive code is generally simpler and cleaner, especially for problems inherently recursive in nature (e.g., tree traversals, dynamic programming problems).\n",
    "\n",
    "\n",
    "Reduced Code Length: Recursion can reduce the length of the code since the repetitive tasks are handled through repeated function calls.\n",
    "\n",
    "# Disadvantages of using recursion\n",
    "Memory Overhead: Each recursive call adds a new layer to the stack, which can result in significant memory use, especially for deep recursion.\n",
    "\n",
    "\n",
    "Performance Issues: Recursive functions may lead to slower responses due to overheads like function calls and returns.\n",
    "Risk of Stack Overflow: Excessive recursion can lead to a stack overflow error if the recursion depth exceeds the stack limit."
   ]
  },
  {
   "cell_type": "markdown",
   "metadata": {},
   "source": [
    "## Recursion vs Iteration\n",
    "# Recursion:\n",
    "Recursion is often more intuitive and easier to implement when the problem is naturally recursive, like tree traversals.\n",
    "It can lead to solutions that are easier to understand compared to iterative ones.\n",
    "\n",
    "# Iteration:\n",
    "Iteration involves loops (for, while) to repeat the execution of a block of code.\n",
    "It is generally more memory-efficient as it does not involve multiple stack frames like recursion."
   ]
  },
  {
   "cell_type": "markdown",
   "metadata": {},
   "source": [
    "### When to Use Recursion Instead of Iteration?\n",
    "- When solving naturally recursive problems (e.g., factorial, Fibonacci, tree traversal).\n",
    "- When clarity and simplicity are more important than performance.\n",
    "\n",
    "## 2. Recursive Problems with Explanations, Code, and Complexity Analysis\n",
    "\n",
    "\n",
    "### 2.1 Factorial Calculation\n",
    "#### Mathematical Definition\n",
    "\n",
    "Factorial of `n` is:\n",
    "\n",
    "\\[ n! = n \\times (n-1) \\times (n-2) \\times ... \\times 1 \\]\n",
    "\n",
    "Base case: `0! = 1`\n"
   ]
  },
  {
   "cell_type": "code",
   "execution_count": 2,
   "metadata": {},
   "outputs": [
    {
     "name": "stdout",
     "output_type": "stream",
     "text": [
      "120\n"
     ]
    }
   ],
   "source": [
    "#### Recursive Implementation\n",
    "\n",
    "# Recursive implementation of factorial\n",
    "def factorial(n):\n",
    "    if n == 0:\n",
    "        return 1\n",
    "    else:\n",
    "        return n * factorial(n - 1)\n",
    "\n",
    "print(factorial(5))  "
   ]
  },
  {
   "cell_type": "code",
   "execution_count": 3,
   "metadata": {},
   "outputs": [
    {
     "name": "stdout",
     "output_type": "stream",
     "text": [
      "120\n"
     ]
    }
   ],
   "source": [
    "#### Iterative Implementation\n",
    "\n",
    "# Iterative implementation of factorial\n",
    "def factorial_iterative(n):\n",
    "    result = 1\n",
    "    for i in range(1, n + 1):\n",
    "        result *= i\n",
    "    return result\n",
    "\n",
    "print(factorial_iterative(5)) "
   ]
  },
  {
   "cell_type": "markdown",
   "metadata": {},
   "source": [
    "#### Complexity Analysis\n",
    "| Approach  | Time Complexity | Space Complexity |\n",
    "|-----------|---------------|----------------|\n",
    "| Recursive | O(n)          | O(n) (call stack) |\n",
    "| Iterative | O(n)          | O(1) |\n"
   ]
  },
  {
   "cell_type": "markdown",
   "metadata": {},
   "source": [
    "###  Fibonacci Series\n",
    "\n",
    "The Fibonacci sequence is defined as:\n",
    "\\[ F(n) = F(n-1) + F(n-2) \\]\n",
    "with base cases:\n",
    "\\[ F(0) = 0, F(1) = 1 \\]\n"
   ]
  },
  {
   "cell_type": "code",
   "execution_count": 4,
   "metadata": {},
   "outputs": [
    {
     "name": "stdout",
     "output_type": "stream",
     "text": [
      "8\n"
     ]
    }
   ],
   "source": [
    "#### Recursive Implementation\n",
    "# Recursive Fibonacci function\n",
    "def fibonacci(n):\n",
    "    if n == 0:\n",
    "        return 0\n",
    "    elif n == 1:\n",
    "        return 1\n",
    "    return fibonacci(n - 1) + fibonacci(n - 2)\n",
    "\n",
    "print(fibonacci(6)) "
   ]
  },
  {
   "cell_type": "markdown",
   "metadata": {},
   "source": [
    "#### Inefficiencies of Naive Recursion\n",
    "- Multiple repeated calculations.\n",
    "- **Exponential time complexity** \\(O(2^n)\\).\n"
   ]
  },
  {
   "cell_type": "code",
   "execution_count": null,
   "metadata": {},
   "outputs": [
    {
     "name": "stdout",
     "output_type": "stream",
     "text": [
      "12586269025\n"
     ]
    }
   ],
   "source": [
    "#### Optimized Fibonacci (Memoization)\n",
    "\n",
    "# Fibonacci with memoization\n",
    "def fibonacci_memo(n, memo={}):\n",
    "    if n in memo:\n",
    "        return memo[n]\n",
    "    if n <= 1:\n",
    "        return n\n",
    "    memo[n] = fibonacci_memo(n - 1, memo) + fibonacci_memo(n - 2, memo)\n",
    "    return memo[n]\n",
    "\n",
    "print(fibonacci_memo(50)) "
   ]
  },
  {
   "cell_type": "markdown",
   "metadata": {},
   "source": [
    "#### Time Complexity Comparison\n",
    "| Approach  | Time Complexity |\n",
    "|-----------|---------------|\n",
    "| Recursive (Naive) | O(2^n) |\n",
    "| Iterative | O(n) |\n",
    "| Memoized | O(n) |\n",
    "\n",
    "## 3. Memory Usage in Recursion\n",
    "### What Happens with Too Many Recursive Calls?\n",
    "Excessive recursion leads to **stack overflow** due to limited call stack size.\n"
   ]
  },
  {
   "cell_type": "markdown",
   "metadata": {},
   "source": [
    "# Types of Recursion in Python\n",
    "Recursion can be broadly classified into two types: tail recursion and non-tail recursion. They get the difference between them because of their relation to what happens after the recursive call.\n",
    "\n",
    "# Tail Recursion: \n",
    "This occurs when the recursive call is the last operation executed in the function, with no additional work or calculation following the recursive call. In many programming languages, tail recursion can be optimized by the compiler into iterative loops to improve performance and prevent stack overflow.\n",
    "\n",
    "# Non-Tail Recursion:\n",
    " This occurs when there are operations or calculations that follow the recursive call. This type prevents the compiler or interpreter from optimizing the recursion into an iteration."
   ]
  },
  {
   "cell_type": "code",
   "execution_count": 4,
   "metadata": {},
   "outputs": [
    {
     "name": "stdout",
     "output_type": "stream",
     "text": [
      "120\n",
      "120\n"
     ]
    }
   ],
   "source": [
    "#Python example that shows both tail recursion and non-tail recursion:\n",
    "\n",
    "def tail_fact(n, acc=1):\n",
    "    # Base case\n",
    "    if n == 0:\n",
    "        return acc\n",
    "    # Tail recursive call with an accumulator\n",
    "    else:\n",
    "        return tail_fact(n-1, acc * n)\n",
    "\n",
    "def nontail_fact(n):\n",
    "    # Base case\n",
    "    if n == 1:\n",
    "        return 1\n",
    "    # Non-tail recursive call because the multiplication happens after the call\n",
    "    else:\n",
    "        return n * nontail_fact(n-1)\n",
    "\n",
    "# Example usage\n",
    "print(tail_fact(5))  \n",
    "print(nontail_fact(5))  \n"
   ]
  },
  {
   "cell_type": "markdown",
   "metadata": {},
   "source": [
    "\n",
    "## . Conclusion\n",
    "### Key Takeaways from Learning Recursion\n",
    "- Recursion helps in solving complex problems elegantly.\n",
    "- Proper base cases prevent infinite recursion.\n",
    "- Memory and time complexity should be considered before using recursion.\n",
    "\n",
    "### Real-World Applications of Recursion\n",
    "- **Sorting Algorithms**: QuickSort, MergeSort\n",
    "- **Graph Traversal**: Depth-First Search (DFS)\n",
    "- **Tree-Based Problems**: Parsing expressions, solving puzzles like Towers of Hanoi\n",
    "\n"
   ]
  },
  {
   "cell_type": "markdown",
   "metadata": {},
   "source": []
  }
 ],
 "metadata": {
  "kernelspec": {
   "display_name": "Python 3",
   "language": "python",
   "name": "python3"
  },
  "language_info": {
   "codemirror_mode": {
    "name": "ipython",
    "version": 3
   },
   "file_extension": ".py",
   "mimetype": "text/x-python",
   "name": "python",
   "nbconvert_exporter": "python",
   "pygments_lexer": "ipython3",
   "version": "3.12.7"
  }
 },
 "nbformat": 4,
 "nbformat_minor": 2
}
