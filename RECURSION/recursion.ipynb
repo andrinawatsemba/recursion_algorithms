{
 "cells": [
  {
   "cell_type": "markdown",
   "metadata": {},
   "source": [
    "WATSEMBA ANDRINA\n",
    "\n",
    "S24B38/026"
   ]
  },
  {
   "cell_type": "markdown",
   "metadata": {},
   "source": [
    "#### RECURSION NOTES AND IMPLEMENTATION"
   ]
  },
  {
   "cell_type": "markdown",
   "metadata": {},
   "source": [
    "## recursion\n",
    "Recursion involves a function calling itself directly or indirectly to solve a problem by breaking it down into simpler and more manageable parts. "
   ]
  },
  {
   "cell_type": "markdown",
   "metadata": {},
   "source": [
    "## Key Components of Recursion\n",
    "Base Case – The condition that stops recursion.\n",
    "\n",
    "Recursive Case – The function calls itself with a smaller input.\n"
   ]
  },
  {
   "cell_type": "markdown",
   "metadata": {},
   "source": [
    " In Python, recursion is widely used for tasks that can be divided into identical subtasks.\n",
    "\n",
    " In Python, a recursive function is defined like any other function, but it includes a call to itself.\n",
    " \n",
    " The syntax and structure of a recursive function follow the typical function definition in Python,\n",
    "  with the addition of one or more conditions that lead to the function calling itself."
   ]
  },
  {
   "cell_type": "code",
   "execution_count": null,
   "metadata": {},
   "outputs": [
    {
     "name": "stdout",
     "output_type": "stream",
     "text": [
      "120\n"
     ]
    }
   ],
   "source": [
    "#example\n",
    "\n",
    "def factorial(n):\n",
    "    if n == 1:\n",
    "        return 1\n",
    "    else:\n",
    "        return n * factorial(n-1)\n",
    "\n",
    "print(factorial(5))  \n",
    "\n",
    "\n",
    "##Explanation: The factorial of a number n (denoted as n!) is the product of all positive integers less than or equal to n.\n",
    "#  The recursive approach involves the function calling itself with a decremented value of n until it reaches the base case of 1."
   ]
  },
  {
   "cell_type": "markdown",
   "metadata": {},
   "source": [
    "Basic Structure of Recursive Function\n",
    "def recursive_function(parameters):\n",
    "\n",
    "\n",
    "    if base_case_condition:\n",
    "\n",
    "\n",
    "        return base_result\n",
    "\n",
    "\n",
    "    else:\n",
    "\n",
    "\n",
    "        return recursive_function(modified_parameters)\n",
    "\n"
   ]
  },
  {
   "cell_type": "markdown",
   "metadata": {},
   "source": [
    "# Base Case and Recursive Case\n",
    "\n",
    "# Base Case:\n",
    " This is the condition under which the recursion stops. It is useful to prevent infinite loops and to ensure that each recursive call reduces the problem in some way. In the factorial example, the base case is n == 1.\n",
    "\n",
    "# Recursive Case:\n",
    " This is the part of the function that includes the call to itself. It must at the end of it all lead to the base case. In the factorial example, the recursive case is return n * factorial(n-1)."
   ]
  },
  {
   "cell_type": "code",
   "execution_count": null,
   "metadata": {},
   "outputs": [
    {
     "name": "stdout",
     "output_type": "stream",
     "text": [
      "55\n"
     ]
    }
   ],
   "source": [
    "#example\n",
    "def fibonacci(n):\n",
    "    # Base cases\n",
    "    if n == 0:\n",
    "        return 0\n",
    "    elif n == 1:\n",
    "        return 1\n",
    "    # Recursive case\n",
    "    else:\n",
    "        return fibonacci(n-1) + fibonacci(n-2)\n",
    "\n",
    "# Example usage\n",
    "print(fibonacci(10))  \n",
    "\n",
    "\n",
    "#Explanation:Base Cases: If n == 0, the function returns 0. If n == 1, the function returns 1.\n",
    "# These two cases are necessary to stop the recursion.\n",
    "#Recursive Case: The function calls itself twice with the decrements of n (i.e., fibonacci(n-1) and fibonacci(n-2)), summing the results of these calls.\n",
    "# This division into smaller subproblems continues until the base cases are reached."
   ]
  },
  {
   "cell_type": "markdown",
   "metadata": {},
   "source": [
    "# Types of Recursion in Python\n",
    "Recursion can be broadly classified into two types: tail recursion and non-tail recursion. They get the difference between them because of their relation to what happens after the recursive call.\n",
    "\n",
    "# Tail Recursion: \n",
    "This occurs when the recursive call is the last operation executed in the function, with no additional work or calculation following the recursive call. In many programming languages, tail recursion can be optimized by the compiler into iterative loops to improve performance and prevent stack overflow.\n",
    "\n",
    "# Non-Tail Recursion:\n",
    " This occurs when there are operations or calculations that follow the recursive call. This type prevents the compiler or interpreter from optimizing the recursion into an iteration."
   ]
  },
  {
   "cell_type": "code",
   "execution_count": 4,
   "metadata": {},
   "outputs": [
    {
     "name": "stdout",
     "output_type": "stream",
     "text": [
      "120\n",
      "120\n"
     ]
    }
   ],
   "source": [
    "#Python example that shows both tail recursion and non-tail recursion:\n",
    "\n",
    "def tail_fact(n, acc=1):\n",
    "    # Base case\n",
    "    if n == 0:\n",
    "        return acc\n",
    "    # Tail recursive call with an accumulator\n",
    "    else:\n",
    "        return tail_fact(n-1, acc * n)\n",
    "\n",
    "def nontail_fact(n):\n",
    "    # Base case\n",
    "    if n == 1:\n",
    "        return 1\n",
    "    # Non-tail recursive call because the multiplication happens after the call\n",
    "    else:\n",
    "        return n * nontail_fact(n-1)\n",
    "\n",
    "# Example usage\n",
    "print(tail_fact(5))  \n",
    "print(nontail_fact(5))  \n"
   ]
  },
  {
   "cell_type": "markdown",
   "metadata": {},
   "source": [
    "## Recursion vs Iteration\n",
    "# Recursion:\n",
    "Recursion is often more intuitive and easier to implement when the problem is naturally recursive, like tree traversals.\n",
    "It can lead to solutions that are easier to understand compared to iterative ones.\n",
    "\n",
    "# Iteration:\n",
    "Iteration involves loops (for, while) to repeat the execution of a block of code.\n",
    "It is generally more memory-efficient as it does not involve multiple stack frames like recursion."
   ]
  },
  {
   "cell_type": "markdown",
   "metadata": {},
   "source": [
    "# Advantages of using recursion\n",
    " Simplicity: Recursive code is generally simpler and cleaner, especially for problems inherently recursive in nature (e.g., tree traversals, dynamic programming problems).\n",
    "\n",
    "\n",
    "Reduced Code Length: Recursion can reduce the length of the code since the repetitive tasks are handled through repeated function calls.\n",
    "\n",
    "# Disadvantages of using recursion\n",
    "Memory Overhead: Each recursive call adds a new layer to the stack, which can result in significant memory use, especially for deep recursion.\n",
    "\n",
    "\n",
    "Performance Issues: Recursive functions may lead to slower responses due to overheads like function calls and returns.\n",
    "Risk of Stack Overflow: Excessive recursion can lead to a stack overflow error if the recursion depth exceeds the stack limit."
   ]
  }
 ],
 "metadata": {
  "kernelspec": {
   "display_name": "Python 3",
   "language": "python",
   "name": "python3"
  },
  "language_info": {
   "codemirror_mode": {
    "name": "ipython",
    "version": 3
   },
   "file_extension": ".py",
   "mimetype": "text/x-python",
   "name": "python",
   "nbconvert_exporter": "python",
   "pygments_lexer": "ipython3",
   "version": "3.12.7"
  }
 },
 "nbformat": 4,
 "nbformat_minor": 2
}
